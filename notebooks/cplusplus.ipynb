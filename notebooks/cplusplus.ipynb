{
 "cells": [
  {
   "cell_type": "code",
   "execution_count": 2,
   "metadata": {},
   "outputs": [],
   "source": [
    "#include <iostream>"
   ]
  },
  {
   "cell_type": "code",
   "execution_count": 6,
   "metadata": {},
   "outputs": [
    {
     "name": "stdout",
     "output_type": "stream",
     "text": [
      "C++11\n"
     ]
    }
   ],
   "source": [
    "if (__cplusplus == 201703L) std::cout << \"C++17\\n\";\n",
    "    else if (__cplusplus == 201402L) std::cout << \"C++14\\n\";\n",
    "    else if (__cplusplus == 201103L) std::cout << \"C++11\\n\";\n",
    "    else if (__cplusplus == 199711L) std::cout << \"C++98\\n\";\n",
    "    else std::cout << \"pre-standard C++\\n\";"
   ]
  },
  {
   "cell_type": "code",
   "execution_count": 5,
   "metadata": {},
   "outputs": [
    {
     "name": "stdout",
     "output_type": "stream",
     "text": [
      "Hello world.\n"
     ]
    }
   ],
   "source": [
    "using namespace std;\n",
    "\n",
    "cout << \"Hello world.\" << endl;"
   ]
  }
 ],
 "metadata": {
  "kernelspec": {
   "display_name": "C++11",
   "language": "C++11",
   "name": "xcpp11"
  },
  "language_info": {
   "codemirror_mode": "text/x-c++src",
   "file_extension": ".cpp",
   "mimetype": "text/x-c++src",
   "name": "c++",
   "version": "11"
  }
 },
 "nbformat": 4,
 "nbformat_minor": 4
}
