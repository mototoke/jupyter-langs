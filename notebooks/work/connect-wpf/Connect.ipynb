{
 "cells": [
  {
   "cell_type": "markdown",
   "metadata": {},
   "source": [
    "## Connect to the WPF app\n",
    "\n",
    "First, let's start the WPF app and connect to it."
   ]
  },
  {
   "cell_type": "code",
   "execution_count": 1,
   "metadata": {},
   "outputs": [
    {
     "data": {
      "text/html": [
       "\r\n",
       "<div>\r\n",
       "    <div id='dotnet-interactive-this-cell-1057.Microsoft.DotNet.Interactive.Http.HttpPort' style='display: none'>\r\n",
       "        The below script needs to be able to find the current output cell; this is an easy method to get it.\r\n",
       "    </div>\r\n",
       "    <script type='text/javascript'>\r\n",
       "async function probeAddresses(probingAddresses) {\r\n",
       "    function timeout(ms, promise) {\r\n",
       "        return new Promise(function (resolve, reject) {\r\n",
       "            setTimeout(function () {\r\n",
       "                reject(new Error('timeout'))\r\n",
       "            }, ms)\r\n",
       "            promise.then(resolve, reject)\r\n",
       "        })\r\n",
       "    }\r\n",
       "\r\n",
       "    if (Array.isArray(probingAddresses)) {\r\n",
       "        for (let i = 0; i < probingAddresses.length; i++) {\r\n",
       "\r\n",
       "            let rootUrl = probingAddresses[i];\r\n",
       "\r\n",
       "            if (!rootUrl.endsWith('/')) {\r\n",
       "                rootUrl = `${rootUrl}/`;\r\n",
       "            }\r\n",
       "\r\n",
       "            try {\r\n",
       "                let response = await timeout(1000, fetch(`${rootUrl}discovery`, {\r\n",
       "                    method: 'POST',\r\n",
       "                    cache: 'no-cache',\r\n",
       "                    mode: 'cors',\r\n",
       "                    timeout: 1000,\r\n",
       "                    headers: {\r\n",
       "                        'Content-Type': 'text/plain'\r\n",
       "                    },\r\n",
       "                    body: probingAddresses[i]\r\n",
       "                }));\r\n",
       "\r\n",
       "                if (response.status == 200) {\r\n",
       "                    return rootUrl;\r\n",
       "                }\r\n",
       "            }\r\n",
       "            catch (e) { }\r\n",
       "        }\r\n",
       "    }\r\n",
       "}\r\n",
       "\r\n",
       "function loadDotnetInteractiveApi() {\r\n",
       "    probeAddresses([\"http://192.168.176.2:1000/\", \"http://127.0.0.1:1000/\"])\r\n",
       "        .then((root) => {\r\n",
       "        // use probing to find host url and api resources\r\n",
       "        // load interactive helpers and language services\r\n",
       "        let dotnetInteractiveRequire = require.config({\r\n",
       "        context: '1057.Microsoft.DotNet.Interactive.Http.HttpPort',\r\n",
       "                paths:\r\n",
       "            {\r\n",
       "                'dotnet-interactive': `${root}resources`\r\n",
       "                }\r\n",
       "        }) || require;\r\n",
       "\r\n",
       "            window.dotnetInteractiveRequire = dotnetInteractiveRequire;\r\n",
       "\r\n",
       "            window.configureRequireFromExtension = function(extensionName, extensionCacheBuster) {\r\n",
       "                let paths = {};\r\n",
       "                paths[extensionName] = `${root}extensions/${extensionName}/resources/`;\r\n",
       "                \r\n",
       "                let internalRequire = require.config({\r\n",
       "                    context: extensionCacheBuster,\r\n",
       "                    paths: paths,\r\n",
       "                    urlArgs: `cacheBuster=${extensionCacheBuster}`\r\n",
       "                    }) || require;\r\n",
       "\r\n",
       "                return internalRequire\r\n",
       "            };\r\n",
       "        \r\n",
       "            dotnetInteractiveRequire([\r\n",
       "                    'dotnet-interactive/dotnet-interactive'\r\n",
       "                ],\r\n",
       "                function (dotnet) {\r\n",
       "                    dotnet.init(window);\r\n",
       "                },\r\n",
       "                function (error) {\r\n",
       "                    console.log(error);\r\n",
       "                }\r\n",
       "            );\r\n",
       "        })\r\n",
       "        .catch(error => {console.log(error);});\r\n",
       "    }\r\n",
       "\r\n",
       "// ensure `require` is available globally\r\n",
       "if ((typeof(require) !==  typeof(Function)) || (typeof(require.config) !== typeof(Function))) {\r\n",
       "    let require_script = document.createElement('script');\r\n",
       "    require_script.setAttribute('src', 'https://cdnjs.cloudflare.com/ajax/libs/require.js/2.3.6/require.min.js');\r\n",
       "    require_script.setAttribute('type', 'text/javascript');\r\n",
       "    \r\n",
       "    \r\n",
       "    require_script.onload = function() {\r\n",
       "        loadDotnetInteractiveApi();\r\n",
       "    };\r\n",
       "\r\n",
       "    document.getElementsByTagName('head')[0].appendChild(require_script);\r\n",
       "}\r\n",
       "else {\r\n",
       "    loadDotnetInteractiveApi();\r\n",
       "}\r\n",
       "\r\n",
       "    </script>\r\n",
       "</div>"
      ]
     },
     "metadata": {},
     "output_type": "display_data"
    }
   ],
   "source": [
    "#!powershell\n",
    "\n",
    "Start-Process -NoNewWindow dotnet run"
   ]
  },
  {
   "cell_type": "code",
   "execution_count": null,
   "metadata": {},
   "outputs": [],
   "source": [
    "#!csharp\n",
    "\n",
    "#!connect named-pipe --kernel-name wpf --pipe-name InteractiveWpf"
   ]
  },
  {
   "cell_type": "code",
   "execution_count": 2,
   "metadata": {},
   "outputs": [],
   "source": [
    "#!csharp\n",
    "\n",
    "#!wpf -h"
   ]
  },
  {
   "cell_type": "markdown",
   "metadata": {},
   "source": [
    "## Formatter (Rendering)"
   ]
  },
  {
   "cell_type": "code",
   "execution_count": null,
   "metadata": {},
   "outputs": [],
   "source": [
    "#!csharp\n",
    "\n",
    "#!wpf\n",
    "#!dispatcher\n",
    "using System.Windows.Media;\n",
    "\n",
    "App.MainWindow.Background = new SolidColorBrush(Colors.Fuchsia);\n",
    "App.MainWindow.Background"
   ]
  },
  {
   "cell_type": "code",
   "execution_count": 2,
   "metadata": {},
   "outputs": [
    {
     "ename": "Unhandled exception",
     "evalue": "Required command was not provided.\nUnrecognized command or argument '#!dispatcher'",
     "output_type": "error",
     "traceback": [
      "Required command was not provided.\nUnrecognized command or argument '#!dispatcher'"
     ]
    }
   ],
   "source": [
    "#!csharp\n",
    "\n",
    "#!wpf\n",
    "#!dispatcher\n",
    "using System.Windows.Media;\n",
    "using System.Windows.Controls;\n",
    "using System.Windows;\n",
    "\n",
    "\n",
    "var grid = (Grid)App.MainWindow.Content;\n",
    "grid.Background = new SolidColorBrush(Colors.CadetBlue);\n",
    "grid"
   ]
  },
  {
   "cell_type": "markdown",
   "metadata": {},
   "source": [
    "## View Model Stuff\n",
    "\n",
    "Create and apply a new view model to the main window."
   ]
  },
  {
   "cell_type": "code",
   "execution_count": 3,
   "metadata": {},
   "outputs": [
    {
     "ename": "Unhandled exception",
     "evalue": "Required command was not provided.\nUnrecognized command or argument '#!dispatcher'",
     "output_type": "error",
     "traceback": [
      "Required command was not provided.\nUnrecognized command or argument '#!dispatcher'"
     ]
    }
   ],
   "source": [
    "#!csharp\n",
    "\n",
    "#!wpf\n",
    "using System.ComponentModel;\n",
    "public class TestViewModel : INotifyPropertyChanged\n",
    "{\n",
    "    public event PropertyChangedEventHandler PropertyChanged;\n",
    "\n",
    "    private string _text = \"Notebook Initial Value\";\n",
    "    public string Text\n",
    "    {\n",
    "        get => _text;\n",
    "        set\n",
    "        {\n",
    "            if (_text != value)\n",
    "            {\n",
    "                _text = value;\n",
    "                PropertyChanged.Invoke(this, new PropertyChangedEventArgs(nameof(Text)));\n",
    "            }\n",
    "        }\n",
    "    }\n",
    "}\n",
    "\n",
    "var vm = new TestViewModel();\n",
    "#!dispatcher\n",
    "App.MainWindow.DataContext = vm;"
   ]
  },
  {
   "cell_type": "markdown",
   "metadata": {},
   "source": [
    "Update the value on the data bound property."
   ]
  },
  {
   "cell_type": "code",
   "execution_count": 3,
   "metadata": {},
   "outputs": [
    {
     "ename": "Unhandled exception",
     "evalue": "Required command was not provided.\nUnrecognized command or argument '#!wpf'",
     "output_type": "error",
     "traceback": [
      "Required command was not provided.\nUnrecognized command or argument '#!wpf'"
     ]
    }
   ],
   "source": [
    "#!csharp\n",
    "\n",
    "#!wpf\n",
    "vm.Text = \"Value changed!\""
   ]
  },
  {
   "cell_type": "markdown",
   "metadata": {},
   "source": [
    "## Dispatcher stuff\n",
    "\n",
    "Demonstate enabling and disabling running code on the dispatcher. "
   ]
  },
  {
   "cell_type": "code",
   "execution_count": null,
   "metadata": {},
   "outputs": [],
   "source": [
    "#!csharp\n",
    "\n",
    "#!wpf\n",
    "\n",
    "#!dispatcher --enabled true\n",
    "    \n",
    "//This should work\n",
    "App.MainWindow.Title\n",
    "\n",
    "#!dispatcher --enabled false\n",
    "//This is expected to fail\n",
    "App.MainWindow.Title"
   ]
  }
 ],
 "metadata": {
  "kernelspec": {
   "display_name": ".NET (C#)",
   "language": "C#",
   "name": ".net-csharp"
  },
  "language_info": {
   "file_extension": ".cs",
   "mimetype": "text/x-csharp",
   "name": "C#",
   "pygments_lexer": "csharp",
   "version": "8.0"
  }
 },
 "nbformat": 4,
 "nbformat_minor": 4
}
